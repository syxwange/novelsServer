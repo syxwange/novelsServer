{
 "cells": [
  {
   "cell_type": "code",
   "execution_count": 16,
   "metadata": {},
   "outputs": [],
   "source": [
    "import sqlite3\n",
    "from aligo import Aligo\n"
   ]
  },
  {
   "cell_type": "code",
   "execution_count": 17,
   "metadata": {},
   "outputs": [
    {
     "name": "stderr",
     "output_type": "stream",
     "text": [
      "15:29:53.414 aligo.INFO Config /root/.aligo/aligo.json\n",
      "15:29:53.415 aligo.INFO 日志等级 DEBUG\n",
      "15:29:53.417 aligo.INFO aligo 版本 5.5.28\n",
      "15:29:53.417 aligo.INFO 类 Unix 操作系统\n",
      "15:29:53.418 aligo.INFO 加载配置文件 /root/.aligo/aligo.json\n"
     ]
    }
   ],
   "source": [
    "ali = Aligo()\n",
    "conn = sqlite3.connect('novels.db')\n",
    "cursor = conn.cursor()   \n",
    "file_id='6482cbcee982a5e0889d4405993a2b41c3705cdc'"
   ]
  },
  {
   "cell_type": "code",
   "execution_count": 19,
   "metadata": {},
   "outputs": [],
   "source": [
    "cursor.execute('SELECT id,title,category FROM novels WHERE category=\"玄幻\"')\n",
    "rows = cursor.fetchall()"
   ]
  },
  {
   "cell_type": "code",
   "execution_count": 20,
   "metadata": {},
   "outputs": [
    {
     "data": {
      "text/plain": [
       "105"
      ]
     },
     "execution_count": 20,
     "metadata": {},
     "output_type": "execute_result"
    }
   ],
   "source": [
    "len(rows)"
   ]
  },
  {
   "cell_type": "code",
   "execution_count": 21,
   "metadata": {},
   "outputs": [],
   "source": [
    "\n",
    "for row in rows:\n",
    "    chapters = []\n",
    "    texts = []\n",
    "    cursor.execute(f'SELECT * FROM book{row[0]}')\n",
    "    tempRows = cursor.fetchall()\n",
    "    for tempRow in tempRows:\n",
    "        chapters.append(tempRow[1])\n",
    "        texts.append(tempRow[2])\n",
    "    with open(f'books/{row[2]}/{row[1]}-{row[0]}-目录.txt','w') as f:\n",
    "        for item in chapters:\n",
    "            f.write(\"%s\\n\\n\" % item)\n",
    "    with open(f'books/{row[2]}/{row[1]}-{row[0]}-正文.txt','w') as f:\n",
    "        for item in texts:\n",
    "            f.write(\"%s\\n\\n\" % item)\n",
    "    # ali.upload_file(f'{row[1]}-{row[0]}-目录.text',parent_file_id=file_id)\n",
    "    # ali.upload_file(f'{row[1]}-{row[0]}-正文.text',parent_file_id=file_id)\n",
    "\n",
    "\n",
    "    "
   ]
  },
  {
   "cell_type": "code",
   "execution_count": 22,
   "metadata": {},
   "outputs": [
    {
     "name": "stderr",
     "output_type": "stream",
     "text": [
      "15:35:38.456 aligo.INFO POST https://api.aliyundrive.com/adrive/v2/file/createWithFolders 201 214\n",
      "15:35:38.460 aligo.INFO 开始上传文件 /root/wg/books/玄幻/万道剑尊-80-正文.txt\n",
      "15:35:38.624 aligo.INFO POST https://api.aliyundrive.com/adrive/v2/file/createWithFolders 201 8352\n",
      "100%|\u001b[38;2;33;215;137m██████████\u001b[0m| 40.8M/40.8M [04:58<00:00, 137kB/s]\n",
      "15:40:37.326 aligo.INFO POST https://api.aliyundrive.com/v2/file/complete 200 1142\n",
      "15:40:37.327 aligo.INFO 文件上传完成 /root/wg/books/玄幻/万道剑尊-80-正文.txt\n",
      "15:40:37.328 aligo.INFO 开始上传文件 /root/wg/books/玄幻/妖神记-83-正文.txt\n",
      "15:40:37.513 aligo.INFO POST https://api.aliyundrive.com/adrive/v2/file/createWithFolders 201 2383\n",
      "100%|\u001b[38;2;33;215;137m██████████\u001b[0m| 4.07M/4.07M [00:29<00:00, 140kB/s]\n",
      "15:41:06.801 aligo.INFO POST https://api.aliyundrive.com/v2/file/complete 200 1139\n",
      "15:41:06.802 aligo.INFO 文件上传完成 /root/wg/books/玄幻/妖神记-83-正文.txt\n",
      "15:41:06.802 aligo.INFO 开始上传文件 /root/wg/books/玄幻/完美世界-92-正文.txt\n",
      "15:41:06.966 aligo.INFO POST https://api.aliyundrive.com/adrive/v2/file/createWithFolders 201 4372\n",
      "100%|\u001b[38;2;33;215;137m██████████\u001b[0m| 20.3M/20.3M [02:25<00:00, 139kB/s]\n",
      "15:43:33.293 aligo.INFO POST https://api.aliyundrive.com/v2/file/complete 200 1142\n",
      "15:43:33.297 aligo.INFO 文件上传完成 /root/wg/books/玄幻/完美世界-92-正文.txt\n",
      "15:43:33.298 aligo.INFO 开始上传文件 /root/wg/books/玄幻/伏天氏-55-正文.txt\n",
      "15:43:33.525 aligo.INFO POST https://api.aliyundrive.com/adrive/v2/file/createWithFolders 201 6359\n",
      "100%|\u001b[38;2;33;215;137m██████████\u001b[0m| 26.0M/26.0M [03:08<00:00, 138kB/s]\n",
      "15:46:42.577 aligo.INFO POST https://api.aliyundrive.com/v2/file/complete 200 1139\n",
      "15:46:42.579 aligo.INFO 文件上传完成 /root/wg/books/玄幻/伏天氏-55-正文.txt\n",
      "15:46:42.581 aligo.INFO 开始上传文件 /root/wg/books/玄幻/猎妖高校-798-目录.txt\n",
      "15:46:42.736 aligo.INFO POST https://api.aliyundrive.com/adrive/v2/file/createWithFolders 201 2389\n",
      "100%|\u001b[38;2;33;215;137m██████████\u001b[0m| 87.4k/87.4k [00:00<00:00, 221kB/s]\n",
      "15:46:43.293 aligo.INFO POST https://api.aliyundrive.com/v2/file/complete 200 1140\n",
      "15:46:43.294 aligo.INFO 文件上传完成 /root/wg/books/玄幻/猎妖高校-798-目录.txt\n",
      "15:46:43.295 aligo.INFO 开始上传文件 /root/wg/books/玄幻/大商监察使-37-正文.txt\n",
      "15:46:43.446 aligo.INFO POST https://api.aliyundrive.com/adrive/v2/file/createWithFolders 201 2377\n",
      "100%|\u001b[38;2;33;215;137m██████████\u001b[0m| 4.69M/4.69M [00:33<00:00, 140kB/s]\n",
      "15:47:17.109 aligo.INFO POST https://api.aliyundrive.com/v2/file/complete 200 1145\n",
      "15:47:17.110 aligo.INFO 文件上传完成 /root/wg/books/玄幻/大商监察使-37-正文.txt\n",
      "15:47:17.111 aligo.INFO 开始上传文件 /root/wg/books/玄幻/大梦主-94-正文.txt\n",
      "15:47:17.268 aligo.INFO POST https://api.aliyundrive.com/adrive/v2/file/createWithFolders 201 4379\n",
      "100%|\u001b[38;2;33;215;137m██████████\u001b[0m| 13.5M/13.5M [01:37<00:00, 138kB/s]\n",
      "15:48:55.593 aligo.INFO POST https://api.aliyundrive.com/v2/file/complete 200 1140\n",
      "15:48:55.595 aligo.INFO 文件上传完成 /root/wg/books/玄幻/大梦主-94-正文.txt\n",
      "15:48:55.596 aligo.INFO 开始上传文件 /root/wg/books/玄幻/他比我懂宝可梦-39-正文.txt\n",
      "15:48:55.757 aligo.INFO POST https://api.aliyundrive.com/adrive/v2/file/createWithFolders 201 4379\n",
      "100%|\u001b[38;2;33;215;137m██████████\u001b[0m| 14.7M/14.7M [01:45<00:00, 139kB/s]\n",
      "15:50:41.587 aligo.INFO POST https://api.aliyundrive.com/v2/file/complete 200 1151\n",
      "15:50:41.590 aligo.INFO 文件上传完成 /root/wg/books/玄幻/他比我懂宝可梦-39-正文.txt\n",
      "15:50:41.592 aligo.INFO 开始上传文件 /root/wg/books/玄幻/最强狂兵-59-正文.txt\n",
      "15:50:41.770 aligo.INFO POST https://api.aliyundrive.com/adrive/v2/file/createWithFolders 201 10280\n",
      "100%|\u001b[38;2;33;215;137m██████████\u001b[0m| 52.1M/52.1M [06:17<00:00, 138kB/s]\n",
      "15:56:59.404 aligo.INFO POST https://api.aliyundrive.com/v2/file/complete 200 1143\n",
      "15:56:59.405 aligo.INFO 文件上传完成 /root/wg/books/玄幻/最强狂兵-59-正文.txt\n",
      "15:56:59.406 aligo.INFO 开始上传文件 /root/wg/books/玄幻/万道剑尊-80-目录.txt\n",
      "15:56:59.564 aligo.INFO POST https://api.aliyundrive.com/adrive/v2/file/createWithFolders 201 2394\n",
      "100%|\u001b[38;2;33;215;137m██████████\u001b[0m| 237k/237k [00:01<00:00, 192kB/s]\n",
      "15:57:01.037 aligo.INFO POST https://api.aliyundrive.com/v2/file/complete 200 1141\n",
      "15:57:01.038 aligo.INFO 文件上传完成 /root/wg/books/玄幻/万道剑尊-80-目录.txt\n",
      "15:57:01.039 aligo.INFO 开始上传文件 /root/wg/books/玄幻/万古神帝-53-目录.txt\n",
      "15:57:01.215 aligo.INFO POST https://api.aliyundrive.com/adrive/v2/file/createWithFolders 201 2384\n",
      "100%|\u001b[38;2;33;215;137m██████████\u001b[0m| 162k/162k [00:00<00:00, 196kB/s]\n",
      "15:57:02.247 aligo.INFO POST https://api.aliyundrive.com/v2/file/complete 200 1140\n",
      "15:57:02.248 aligo.INFO 文件上传完成 /root/wg/books/玄幻/万古神帝-53-目录.txt\n",
      "15:57:02.248 aligo.INFO 开始上传文件 /root/wg/books/玄幻/黄金召唤师-29-目录.txt\n",
      "15:57:02.400 aligo.INFO POST https://api.aliyundrive.com/adrive/v2/file/createWithFolders 201 2389\n",
      "100%|\u001b[38;2;33;215;137m██████████\u001b[0m| 41.0k/41.0k [00:00<00:00, 184kB/s]\n",
      "15:57:02.822 aligo.INFO POST https://api.aliyundrive.com/v2/file/complete 200 1142\n",
      "15:57:02.823 aligo.INFO 文件上传完成 /root/wg/books/玄幻/黄金召唤师-29-目录.txt\n",
      "15:57:02.824 aligo.INFO 开始上传文件 /root/wg/books/玄幻/国王-45-正文.txt\n",
      "15:57:03.002 aligo.INFO POST https://api.aliyundrive.com/adrive/v2/file/createWithFolders 201 2380\n",
      "100%|\u001b[38;2;33;215;137m██████████\u001b[0m| 5.73M/5.73M [00:40<00:00, 140kB/s]\n",
      "15:57:44.061 aligo.INFO POST https://api.aliyundrive.com/v2/file/complete 200 1136\n",
      "15:57:44.062 aligo.INFO 文件上传完成 /root/wg/books/玄幻/国王-45-正文.txt\n",
      "15:57:44.063 aligo.INFO 开始上传文件 /root/wg/books/玄幻/万古最强宗-97-正文.txt\n",
      "15:57:44.223 aligo.INFO POST https://api.aliyundrive.com/adrive/v2/file/createWithFolders 201 4375\n",
      "100%|\u001b[38;2;33;215;137m██████████\u001b[0m| 14.3M/14.3M [01:43<00:00, 138kB/s]\n",
      "15:59:27.852 aligo.INFO POST https://api.aliyundrive.com/v2/file/complete 200 1145\n",
      "15:59:27.853 aligo.INFO 文件上传完成 /root/wg/books/玄幻/万古最强宗-97-正文.txt\n",
      "15:59:27.855 aligo.INFO 开始上传文件 /root/wg/books/玄幻/我在玄幻世界冒充天机神算-49-正文.txt\n",
      "15:59:28.025 aligo.INFO POST https://api.aliyundrive.com/adrive/v2/file/createWithFolders 201 8344\n",
      "100%|\u001b[38;2;33;215;137m██████████\u001b[0m| 31.5M/31.5M [03:46<00:00, 139kB/s]\n",
      "16:03:14.965 aligo.INFO POST https://api.aliyundrive.com/v2/file/complete 200 1166\n",
      "16:03:14.967 aligo.INFO 文件上传完成 /root/wg/books/玄幻/我在玄幻世界冒充天机神算-49-正文.txt\n",
      "16:03:14.969 aligo.INFO 开始上传文件 /root/wg/books/玄幻/超维术士-16-目录.txt\n",
      "16:03:15.148 aligo.INFO POST https://api.aliyundrive.com/adrive/v2/file/createWithFolders 201 2386\n",
      "100%|\u001b[38;2;33;215;137m██████████\u001b[0m| 82.3k/82.3k [00:00<00:00, 299kB/s]\n",
      "16:03:15.661 aligo.INFO POST https://api.aliyundrive.com/v2/file/complete 200 1139\n",
      "16:03:15.663 aligo.INFO 文件上传完成 /root/wg/books/玄幻/超维术士-16-目录.txt\n",
      "16:03:15.664 aligo.INFO 开始上传文件 /root/wg/books/玄幻/万古神帝-53-正文.txt\n",
      "16:03:15.823 aligo.INFO POST https://api.aliyundrive.com/adrive/v2/file/createWithFolders 201 8338\n",
      "100%|\u001b[38;2;33;215;137m██████████\u001b[0m| 40.7M/40.7M [04:54<00:00, 138kB/s]\n",
      "16:08:10.382 aligo.INFO POST https://api.aliyundrive.com/v2/file/complete 200 1143\n",
      "16:08:10.384 aligo.INFO 文件上传完成 /root/wg/books/玄幻/万古神帝-53-正文.txt\n",
      "16:08:10.385 aligo.INFO 开始上传文件 /root/wg/books/玄幻/剑道狂神-48-目录.txt\n",
      "16:08:10.540 aligo.INFO POST https://api.aliyundrive.com/adrive/v2/file/createWithFolders 201 2388\n",
      "100%|\u001b[38;2;33;215;137m██████████\u001b[0m| 92.1k/92.1k [00:00<00:00, 302kB/s]\n",
      "16:08:11.072 aligo.INFO POST https://api.aliyundrive.com/v2/file/complete 200 1139\n",
      "16:08:11.073 aligo.INFO 文件上传完成 /root/wg/books/玄幻/剑道狂神-48-目录.txt\n",
      "16:08:11.075 aligo.INFO 开始上传文件 /root/wg/books/玄幻/魔法塔的星空-9-目录.txt\n",
      "16:08:11.226 aligo.INFO POST https://api.aliyundrive.com/adrive/v2/file/createWithFolders 201 2383\n",
      "100%|\u001b[38;2;33;215;137m██████████\u001b[0m| 49.4k/49.4k [00:00<00:00, 354kB/s]\n",
      "16:08:11.539 aligo.INFO POST https://api.aliyundrive.com/v2/file/complete 200 1145\n",
      "16:08:11.541 aligo.INFO 文件上传完成 /root/wg/books/玄幻/魔法塔的星空-9-目录.txt\n",
      "16:08:11.542 aligo.INFO 开始上传文件 /root/wg/books/玄幻/我用副职加天赋-4-正文.txt\n",
      "16:08:11.740 aligo.INFO POST https://api.aliyundrive.com/adrive/v2/file/createWithFolders 201 2394\n",
      "100%|\u001b[38;2;33;215;137m██████████\u001b[0m| 3.82M/3.82M [00:27<00:00, 141kB/s]\n",
      "16:08:39.069 aligo.INFO POST https://api.aliyundrive.com/v2/file/complete 200 1149\n",
      "16:08:39.070 aligo.INFO 文件上传完成 /root/wg/books/玄幻/我用副职加天赋-4-正文.txt\n",
      "16:08:39.071 aligo.INFO 开始上传文件 /root/wg/books/玄幻/我居然认得上古神文-3-正文.txt\n",
      "16:08:39.233 aligo.INFO POST https://api.aliyundrive.com/adrive/v2/file/createWithFolders 201 4382\n",
      "100%|\u001b[38;2;33;215;137m██████████\u001b[0m| 20.3M/20.3M [02:26<00:00, 138kB/s]\n",
      "16:11:06.574 aligo.INFO POST https://api.aliyundrive.com/v2/file/complete 200 1156\n",
      "16:11:06.577 aligo.INFO 文件上传完成 /root/wg/books/玄幻/我居然认得上古神文-3-正文.txt\n",
      "16:11:06.578 aligo.INFO 开始上传文件 /root/wg/books/玄幻/武炼巅峰-52-目录.txt\n",
      "16:11:06.747 aligo.INFO POST https://api.aliyundrive.com/adrive/v2/file/createWithFolders 201 2382\n",
      "100%|\u001b[38;2;33;215;137m██████████\u001b[0m| 246k/246k [00:01<00:00, 193kB/s]\n",
      "16:11:08.215 aligo.INFO POST https://api.aliyundrive.com/v2/file/complete 200 1141\n",
      "16:11:08.217 aligo.INFO 文件上传完成 /root/wg/books/玄幻/武炼巅峰-52-目录.txt\n",
      "16:11:08.218 aligo.INFO 开始上传文件 /root/wg/books/玄幻/临渊行-64-正文.txt\n",
      "16:11:08.387 aligo.INFO POST https://api.aliyundrive.com/adrive/v2/file/createWithFolders 201 4391\n",
      "100%|\u001b[38;2;33;215;137m██████████\u001b[0m| 10.5M/10.5M [01:15<00:00, 139kB/s]\n",
      "16:12:24.158 aligo.INFO POST https://api.aliyundrive.com/v2/file/complete 200 1140\n",
      "16:12:24.161 aligo.INFO 文件上传完成 /root/wg/books/玄幻/临渊行-64-正文.txt\n",
      "16:12:24.162 aligo.INFO 开始上传文件 /root/wg/books/玄幻/超神宠兽店-77-目录.txt\n",
      "16:12:24.347 aligo.INFO POST https://api.aliyundrive.com/adrive/v2/file/createWithFolders 201 2379\n",
      "100%|\u001b[38;2;33;215;137m██████████\u001b[0m| 66.3k/66.3k [00:00<00:00, 218kB/s]\n",
      "16:12:24.842 aligo.INFO POST https://api.aliyundrive.com/v2/file/complete 200 1143\n",
      "16:12:24.845 aligo.INFO 文件上传完成 /root/wg/books/玄幻/超神宠兽店-77-目录.txt\n",
      "16:12:24.866 aligo.INFO 开始上传文件 /root/wg/books/玄幻/盖世-88-目录.txt\n",
      "16:12:25.073 aligo.INFO POST https://api.aliyundrive.com/adrive/v2/file/createWithFolders 201 2382\n",
      "100%|\u001b[38;2;33;215;137m██████████\u001b[0m| 93.0k/93.0k [00:00<00:00, 377kB/s]\n",
      "16:12:25.486 aligo.INFO POST https://api.aliyundrive.com/v2/file/complete 200 1134\n",
      "16:12:25.488 aligo.INFO 文件上传完成 /root/wg/books/玄幻/盖世-88-目录.txt\n",
      "16:12:25.489 aligo.INFO 开始上传文件 /root/wg/books/玄幻/修炼从简化功法开始-18-目录.txt\n",
      "16:12:25.661 aligo.INFO POST https://api.aliyundrive.com/adrive/v2/file/createWithFolders 201 2399\n",
      "100%|\u001b[38;2;33;215;137m██████████\u001b[0m| 21.7k/21.7k [00:00<00:00, 313kB/s]\n",
      "16:12:25.903 aligo.INFO POST https://api.aliyundrive.com/v2/file/complete 200 1155\n",
      "16:12:25.905 aligo.INFO 文件上传完成 /root/wg/books/玄幻/修炼从简化功法开始-18-目录.txt\n",
      "16:12:25.906 aligo.INFO 开始上传文件 /root/wg/books/玄幻/逆天邪神-56-正文.txt\n",
      "16:12:26.092 aligo.INFO POST https://api.aliyundrive.com/adrive/v2/file/createWithFolders 201 6336\n",
      "100%|\u001b[38;2;33;215;137m██████████\u001b[0m| 21.5M/21.5M [02:36<00:00, 138kB/s]\n",
      "16:15:02.829 aligo.INFO POST https://api.aliyundrive.com/v2/file/complete 200 1142\n",
      "16:15:02.830 aligo.INFO 文件上传完成 /root/wg/books/玄幻/逆天邪神-56-正文.txt\n",
      "16:15:02.832 aligo.INFO 开始上传文件 /root/wg/books/玄幻/大主宰-81-正文.txt\n",
      "16:15:02.982 aligo.INFO POST https://api.aliyundrive.com/adrive/v2/file/createWithFolders 201 4371\n",
      "100%|\u001b[38;2;33;215;137m██████████\u001b[0m| 15.2M/15.2M [01:49<00:00, 139kB/s]\n",
      "16:16:52.550 aligo.INFO POST https://api.aliyundrive.com/v2/file/complete 200 1140\n",
      "16:16:52.553 aligo.INFO 文件上传完成 /root/wg/books/玄幻/大主宰-81-正文.txt\n",
      "16:16:52.554 aligo.INFO 开始上传文件 /root/wg/books/玄幻/西游：人在天庭，朝九晚五-12-正文.txt\n",
      "16:16:52.761 aligo.INFO POST https://api.aliyundrive.com/adrive/v2/file/createWithFolders 201 4378\n",
      "  0%|\u001b[38;2;33;215;137m          \u001b[0m| 0.00/11.5M [00:00<?, ?B/s]"
     ]
    }
   ],
   "source": [
    "ali.upload_folder('./books/玄幻',parent_file_id=file_id)"
   ]
  },
  {
   "cell_type": "code",
   "execution_count": 13,
   "metadata": {},
   "outputs": [
    {
     "name": "stderr",
     "output_type": "stream",
     "text": [
      "15:12:34.851 aligo.INFO POST https://api.aliyundrive.com/adrive/v3/file/list?jsonmask=next_marker%2Citems%28name%2Cfile_id%2Cdrive_id%2Ctype%2Csize%2Ccreated_at%2Cupdated_at%2Ccategory%2Cfile_extension%2Cparent_file_id%2Cmime_type%2Cstarred%2Cthumbnail%2Curl%2Cstreams_info%2Ccontent_hash%2Cuser_tags%2Cuser_meta%2Ctrashed%2Cvideo_media_metadata%2Cvideo_preview_metadata%2Csync_meta%2Csync_device_flag%2Csync_flag%2Cpunish_flag 200 13359\n"
     ]
    },
    {
     "data": {
      "text/plain": [
       "BaseFile(type='folder', file_id='6482cbcee982a5e0889d4405993a2b41c3705cdc', name='books', from_share_id=None, revision_version=None)"
      ]
     },
     "execution_count": 13,
     "metadata": {},
     "output_type": "execute_result"
    }
   ],
   "source": [
    "ali.get_folder_by_path('books')"
   ]
  },
  {
   "cell_type": "code",
   "execution_count": 6,
   "metadata": {},
   "outputs": [
    {
     "name": "stderr",
     "output_type": "stream",
     "text": [
      "14:55:15.109 aligo.INFO POST https://api.aliyundrive.com/adrive/v3/file/list?jsonmask=next_marker%2Citems%28name%2Cfile_id%2Cdrive_id%2Ctype%2Csize%2Ccreated_at%2Cupdated_at%2Ccategory%2Cfile_extension%2Cparent_file_id%2Cmime_type%2Cstarred%2Cthumbnail%2Curl%2Cstreams_info%2Ccontent_hash%2Cuser_tags%2Cuser_meta%2Ctrashed%2Cvideo_media_metadata%2Cvideo_preview_metadata%2Csync_meta%2Csync_device_flag%2Csync_flag%2Cpunish_flag 200 17843\n"
     ]
    },
    {
     "name": "stdout",
     "output_type": "stream",
     "text": [
      "6482cbcee982a5e0889d4405993a2b41c3705cdc books folder\n",
      "64671329a8c48643758745319c1b5344e2da7c20 tutorials folder\n",
      "645bfbc56afafd0cf5c34b0b8e41ca1915c5fbc6 novel folder\n",
      "63fe9bffd2952330f480435f9ebdd6fcca4f7d11 20230301-0019 folder\n",
      "63fe9025d0dd0a9305df4ab8af0676db1894c7f7 20230228-2328 folder\n",
      "63f0f21b0e8a3da981e24ab4adab5655d3572eb9 20230218-1543 folder\n",
      "63f0f204e454c4dd3f8844fdba1fcb4206a33670 20230218-1542 folder\n",
      "63f0f1ba9e07598f1fd14f94a6c50ece4bcc38a1 20230218-1541 folder\n",
      "63f0f19cd55db8e4fcbc49569a1183fd1a5ce32a 20230218-1540 folder\n",
      "63e0a78c8e90f508566a4d72abe3da07dd5a4726 tempFile folder\n",
      "63d9d7df77fea40263c04ebea25537179a1d98e0 game folder\n",
      "63c61711f41ea5d5f7894741a828e5bd5735c659 video folder\n",
      "63c6168ffa10da842f1041e9b1dc0803583c05e8 audio folder\n",
      "63bdade0cb4e2b80a9ec4b539bdce4940528372e codes folder\n",
      "60990fadfb7878757c6d426d994a155c6d719179 deepLearn folder\n",
      "634da53c29dc9204b5834fb688e5c4b9a60c1dfb wg folder\n",
      "634663fd8c63d672dcc643d1a68234871592b5a3 视频音乐 folder\n",
      "6334568eb20f1d0632c94b9583098cc9e4c76aca 来自分享 folder\n",
      "63fee9866314a5031f6c4cb7b0e6e139c3a5f265 Ai.mp4 file\n"
     ]
    }
   ],
   "source": [
    "ll = ali.get_file_list()  # 获取网盘根目录文件列表\n",
    "for file in ll:  # 遍历文件列表\n",
    "    print(file.file_id, file.name, file.type)  # 打印文件信息"
   ]
  },
  {
   "cell_type": "code",
   "execution_count": null,
   "metadata": {},
   "outputs": [],
   "source": [
    "ali.create_folder(name='book')"
   ]
  },
  {
   "cell_type": "code",
   "execution_count": null,
   "metadata": {},
   "outputs": [],
   "source": [
    "\n",
    "# cursor.execute(\"INSERT"
   ]
  },
  {
   "cell_type": "code",
   "execution_count": null,
   "metadata": {},
   "outputs": [],
   "source": [
    "sql = '''\n",
    "CREATE TABLE favorites (\n",
    "\t\tid INT AUTO_INCREMENT PRIMARY KEY,\n",
    "\t\tuser_id INT,\n",
    "\t\tnovel_id INT,\n",
    "        chapter INT,\n",
    "\t\tpage INT,\n",
    "\t\tFOREIGN KEY (user_id) REFERENCES users(id),\n",
    "\t\tFOREIGN KEY (novel_id) REFERENCES novels(id)     \n",
    ");\n",
    "'''"
   ]
  },
  {
   "cell_type": "code",
   "execution_count": null,
   "metadata": {},
   "outputs": [],
   "source": [
    "\n",
    "\n",
    "# 执行删除列的操作\n",
    "cursor.execute('ALTER TABLE favorites  DROP COLUMN page')\n",
    "\n",
    "# 提交更改\n",
    "conn.commit()\n",
    "\n",
    "# 关闭连接\n",
    "conn.close()\n"
   ]
  },
  {
   "attachments": {},
   "cell_type": "markdown",
   "metadata": {},
   "source": []
  },
  {
   "cell_type": "code",
   "execution_count": null,
   "metadata": {},
   "outputs": [],
   "source": [
    "aql='''\n",
    "CREATE TABLE users (\n",
    "\t\tid INTEGER PRIMARY KEY,\n",
    "\t\tname VARCHAR(30) NOT NULL,\n",
    "        gender INTEGER,\n",
    "        age INTEGER,\n",
    "\t\tphone VARCHAR(50)  NOT NULL UNIQUE,\n",
    "\t\temail VARCHAR(50),\n",
    "\t\tpassword VARCHAR(100) NOT NULL,\n",
    "\t\taddress VARCHAR(50),\n",
    "\t\tvip INTEGER\n",
    ");\n",
    "'''\n",
    "\n",
    "    "
   ]
  },
  {
   "cell_type": "code",
   "execution_count": null,
   "metadata": {},
   "outputs": [],
   "source": [
    "phone='13907393236'\n",
    "sql = f\"SELECT * FROM users WHERE phone={phone};\"\n",
    "# 执行 SQL 语句并获取结果\n",
    "cursor.execute(sql)\n",
    "rows = cursor.fetchall()"
   ]
  },
  {
   "cell_type": "code",
   "execution_count": null,
   "metadata": {},
   "outputs": [],
   "source": [
    "cursor.execute('INSERT INTO \"favorites\" DEFAULT VALUES, ()')"
   ]
  },
  {
   "cell_type": "code",
   "execution_count": null,
   "metadata": {},
   "outputs": [],
   "source": [
    "# cursor.execute('INSERT INTO favorites (user_id,novel_id) VALUES (?,?)',(1,643))\n",
    "cursor.execute(\"DELETE FROM favorites WHERE user_id=? AND novel_id=?\", (1, 643))\n",
    "cursor.rowcount"
   ]
  },
  {
   "cell_type": "code",
   "execution_count": null,
   "metadata": {},
   "outputs": [],
   "source": [
    "conn.commit()\n",
    "cursor.close()\n",
    "conn.close()"
   ]
  },
  {
   "cell_type": "code",
   "execution_count": null,
   "metadata": {},
   "outputs": [],
   "source": [
    "aa = []\n",
    "aa.append(1)\n",
    "aa.append(2)\n",
    "aa.append(3)\n",
    "aa.append(4)"
   ]
  },
  {
   "cell_type": "code",
   "execution_count": null,
   "metadata": {},
   "outputs": [],
   "source": [
    "aa"
   ]
  },
  {
   "cell_type": "code",
   "execution_count": null,
   "metadata": {},
   "outputs": [],
   "source": [
    "aa.pop(0)"
   ]
  },
  {
   "cell_type": "code",
   "execution_count": null,
   "metadata": {},
   "outputs": [],
   "source": [
    "import os\n",
    "path = '.'\n",
    "for file in os.listdir(path):\n",
    "    if file.endswith(\".wav\"):\n",
    "        os.remove(os.path.join(path, file))"
   ]
  },
  {
   "cell_type": "code",
   "execution_count": null,
   "metadata": {},
   "outputs": [],
   "source": [
    "my_list\n"
   ]
  }
 ],
 "metadata": {
  "kernelspec": {
   "display_name": "Python 3",
   "language": "python",
   "name": "python3"
  },
  "language_info": {
   "codemirror_mode": {
    "name": "ipython",
    "version": 3
   },
   "file_extension": ".py",
   "mimetype": "text/x-python",
   "name": "python",
   "nbconvert_exporter": "python",
   "pygments_lexer": "ipython3",
   "version": "3.8.10"
  },
  "orig_nbformat": 4
 },
 "nbformat": 4,
 "nbformat_minor": 2
}
